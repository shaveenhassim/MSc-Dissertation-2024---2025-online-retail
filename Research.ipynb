{
 "cells": [
  {
   "cell_type": "markdown",
   "id": "e0e1be12",
   "metadata": {},
   "source": [
    "# Exploring Descriptive and Inferential Statistics Using Python for Data-Driven Decision-Making"
   ]
  },
  {
   "cell_type": "code",
   "execution_count": null,
   "id": "cb4d07ce",
   "metadata": {},
   "outputs": [],
   "source": [
    "import pandas as pd\n",
    "import numpy as np\n",
    "import plotly.express as px\n",
    "import plotly.graph_objects as go\n",
    "from scipy import stats\n",
    "from scipy.stats import norm\n",
    "from sklearn.preprocessing import OneHotEncoder\n",
    "from sklearn.linear_model import LinearRegression\n",
    "from sklearn.model_selection import train_test_split\n",
    "from sklearn.metrics import r2_score"
   ]
  },
  {
   "cell_type": "code",
   "execution_count": null,
   "id": "8b244129",
   "metadata": {},
   "outputs": [],
   "source": [
    "df = pd.read_csv(\"C:/Users/Vostro/OneDrive/Desktop/MSc Data Science/Semester 1/Research Project/online_retail.csv\", encoding='ISO-8859-1')"
   ]
  },
  {
   "cell_type": "code",
   "execution_count": null,
   "id": "c3109bc2-875f-4e4d-8f5d-f7d1b0a47689",
   "metadata": {},
   "outputs": [],
   "source": [
    "df.info()"
   ]
  },
  {
   "cell_type": "code",
   "execution_count": null,
   "id": "e4d80204-6bd0-453c-acaa-1b4ef2c05dbb",
   "metadata": {},
   "outputs": [],
   "source": [
    "df.head(10)"
   ]
  },
  {
   "cell_type": "code",
   "execution_count": null,
   "id": "eb96bff1-1d9d-4944-9356-933c80803e45",
   "metadata": {},
   "outputs": [],
   "source": [
    "df.tail(10)"
   ]
  },
  {
   "cell_type": "code",
   "execution_count": null,
   "id": "9ef2fa60-10c5-49dd-b036-a44650cfeedc",
   "metadata": {},
   "outputs": [],
   "source": [
    "df.columns"
   ]
  },
  {
   "cell_type": "code",
   "execution_count": null,
   "id": "d0df7ac3-d479-447a-9bc0-726ac07e23c0",
   "metadata": {},
   "outputs": [],
   "source": [
    "df.describe()"
   ]
  },
  {
   "cell_type": "code",
   "execution_count": null,
   "id": "517a5bf6-129f-417d-8cf3-58dcd8f3af92",
   "metadata": {},
   "outputs": [],
   "source": [
    "# Check for missing values\n",
    "missing_values = df.isnull().sum()\n",
    "missing_percent = (missing_values / len(df)) * 100\n",
    "print(\"Missing Values:\\n\", missing_values)\n",
    "print(\"Missing Values Percentage:\\n\", missing_percent)"
   ]
  },
  {
   "cell_type": "code",
   "execution_count": null,
   "id": "05cecfc3",
   "metadata": {},
   "outputs": [],
   "source": [
    "# 1. Data Preprocessing\n",
    "\n",
    "\n",
    "# Drop rows with missing values in both 'CustomerID' and 'Description'\n",
    "df.dropna(subset=['CustomerID','Description'], inplace=True)\n",
    "\n",
    "# Remove negative or zero quantities and unit prices\n",
    "df = df[df['Quantity'] > 0]\n",
    "df = df[df['UnitPrice'] > 0]\n",
    "print(df.isnull().sum())"
   ]
  },
  {
   "cell_type": "code",
   "execution_count": null,
   "id": "b673d533-7871-47ae-bbc8-5704ed3b171a",
   "metadata": {},
   "outputs": [],
   "source": [
    "#Removing outleirs which can affecting the analysis\n",
    "\n",
    "def remove_outliers_iqr(df, column):\n",
    "    Q1 = df[column].quantile(0.25)\n",
    "    Q3 = df[column].quantile(0.75)\n",
    "    IQR = Q3 - Q1\n",
    "    lower = Q1 - 1.5 * IQR\n",
    "    upper = Q3 + 1.5 * IQR\n",
    "    return df[(df[column] >= lower) & (df[column] <= upper)]\n",
    "\n",
    "# Remove outliers from both Quantity and UnitPrice\n",
    "df_clean = remove_outliers_iqr(df, 'Quantity')\n",
    "df_clean = remove_outliers_iqr(df_clean, 'UnitPrice')"
   ]
  },
  {
   "cell_type": "code",
   "execution_count": null,
   "id": "a828f358-f3cc-4aaa-8d96-6036180e784c",
   "metadata": {},
   "outputs": [],
   "source": [
    "# Before Removing Outliers\n",
    "fig_before = px.box(df, y=['Quantity', 'UnitPrice'], title=\"Before Removing Outliers\")\n",
    "fig_before.show()\n",
    "\n",
    "# After Removing Outliers\n",
    "fig_after = px.box(df_clean, y=['Quantity', 'UnitPrice'], title=\"After Removing Outliers\")\n",
    "fig_after.show()"
   ]
  },
  {
   "cell_type": "code",
   "execution_count": null,
   "id": "a6b8b9f5-7d0d-450b-9406-ebee90b5936c",
   "metadata": {},
   "outputs": [],
   "source": [
    "# Convert InvoiceDate to datetime\n",
    "df_clean['InvoiceDate'] = pd.to_datetime(df_clean['InvoiceDate'])"
   ]
  },
  {
   "cell_type": "code",
   "execution_count": null,
   "id": "2cdb969b-22bc-4671-81f0-f1e60d5d3856",
   "metadata": {},
   "outputs": [],
   "source": [
    "df_clean.info()"
   ]
  },
  {
   "cell_type": "code",
   "execution_count": null,
   "id": "f755ca44",
   "metadata": {},
   "outputs": [],
   "source": [
    "# 2. Descriptive Statistics\n",
    "\n",
    "# Central tendency & dispersion\n",
    "\n",
    "df_clean[['Quantity', 'UnitPrice']].describe()"
   ]
  },
  {
   "cell_type": "code",
   "execution_count": null,
   "id": "a5e94785",
   "metadata": {},
   "outputs": [],
   "source": [
    "# 3. Exploratory Data Analysis (EDA)\n",
    "\n",
    "# Histogram for UnitPrice\n",
    "\n",
    "fig1 = px.histogram(df_clean, x=\"UnitPrice\", nbins=100, title=\"Distribution of Unit Price\",\n",
    "                    marginal=\"box\", color_discrete_sequence=[\"indigo\"])\n",
    "fig1.update_layout(bargap=0.1)\n",
    "fig1.show()"
   ]
  },
  {
   "cell_type": "code",
   "execution_count": null,
   "id": "28f74fb9",
   "metadata": {},
   "outputs": [],
   "source": [
    "# Boxplot by Country for Quantity\n",
    "\n",
    "top_countries = df_clean['Country'].value_counts().nlargest(5).index\n",
    "df_box = (df_clean[df_clean['Country'].isin(top_countries)])\n",
    "fig2 = px.box(df_box, x=\"Country\", y=\"Quantity\", title=\"Quantity Distribution by Top 5 Countries\",\n",
    "              color=\"Country\", color_discrete_sequence=px.colors.qualitative.Set1)\n",
    "fig2.show()"
   ]
  },
  {
   "cell_type": "code",
   "execution_count": null,
   "id": "3e82c231",
   "metadata": {},
   "outputs": [],
   "source": [
    "# Heatmap of correlation\n",
    "\n",
    "corr = df_clean[['Quantity', 'UnitPrice']].corr()\n",
    "fig3 = go.Figure(data=go.Heatmap(z=corr.values, x=corr.columns, y=corr.columns,\n",
    "                                 colorscale='RdBu', zmin=-1, zmax=1))\n",
    "fig3.update_layout(title=\"Correlation Heatmap\")\n",
    "fig3.show()"
   ]
  },
  {
   "cell_type": "code",
   "execution_count": null,
   "id": "4352473e-121b-4094-8830-ed9e7868c114",
   "metadata": {},
   "outputs": [],
   "source": [
    "# 4 Inferential Statistics \n",
    "# Multiple Linear Regression \n",
    "\n",
    "# Filter for Top 3 Countries\n",
    "df_filtered = df_clean[df_clean['Country'].isin(['United Kingdom', 'Germany', 'France'])].copy()\n",
    "df_filtered['InvoiceMonth'] = df_filtered['InvoiceDate'].dt.month\n",
    "\n",
    "#Prepare Features & Encode Country\n",
    "X = df_filtered[['UnitPrice', 'InvoiceMonth', 'Country']]\n",
    "y = df_filtered['Quantity']\n",
    "\n",
    "encoder = OneHotEncoder(categories=[['United Kingdom', 'France', 'Germany']],drop='first', sparse_output=False)\n",
    "X_country = encoder.fit_transform(X[['Country']])\n",
    "X_encoded = pd.DataFrame(X_country, columns=encoder.get_feature_names_out(['Country']))\n",
    "X_final = pd.concat([X[['UnitPrice', 'InvoiceMonth']].reset_index(drop=True), X_encoded], axis=1)\n",
    "\n",
    "#Train the Model\n",
    "X_train, X_test, y_train, y_test = train_test_split(X_final, y, test_size=0.2, random_state=42)\n",
    "\n",
    "model = LinearRegression()\n",
    "model.fit(X_train, y_train)\n",
    "y_pred = model.predict(X_test)\n",
    "\n",
    "#Evaluate\n",
    "r2 = r2_score(y_test, y_pred)\n",
    "print(\"R-squared:\", r2)\n",
    "print(\"Intercept:\", model.intercept_)\n",
    "print(\"Coefficients:\", dict(zip(X_final.columns, model.coef_)))"
   ]
  },
  {
   "cell_type": "code",
   "execution_count": null,
   "id": "c5063db5-967d-4dfe-bf0b-0a10eae73f8c",
   "metadata": {},
   "outputs": [],
   "source": [
    "#Visualize Actual vs Predicted\n",
    "fig = go.Figure()\n",
    "fig.add_trace(go.Scatter(x=y_test[:500], y=y_pred[:500], mode='markers', name='Predicted vs Actual'))\n",
    "fig.add_trace(go.Scatter(x=[0, max(y_test[:500])], y=[0, max(y_test[:500])], mode='lines',\n",
    "                      line=dict(color='red', dash='dash'), name='Ideal Fit'))\n",
    "fig.update_layout(title='Actual vs Predicted Quantity',\n",
    "                  xaxis_title='Actual Quantity', yaxis_title='Predicted Quantity')\n"
   ]
  },
  {
   "cell_type": "code",
   "execution_count": null,
   "id": "c30d7f7e",
   "metadata": {},
   "outputs": [],
   "source": [
    "#Shapiro-Wilk Test\n",
    "quantity_sample = df_clean['Quantity'].sample(500, random_state=1)\n",
    "unitprice_sample = df_clean['UnitPrice'].sample(500, random_state=1)\n",
    "stats.shapiro(quantity_sample), stats.shapiro(unitprice_sample)"
   ]
  },
  {
   "cell_type": "code",
   "execution_count": null,
   "id": "753904e6-9b89-47c8-a520-2377beb7d7e6",
   "metadata": {},
   "outputs": [],
   "source": [
    "#Visualization of Shapiro-Wilk Test\n",
    "# Sample the data\n",
    "quantity_sample = df_clean['Quantity'].sample(500, random_state=1)\n",
    "unitprice_sample = df_clean['UnitPrice'].sample(500, random_state=1)\n",
    "\n",
    "# Create DataFrame for Quantity\n",
    "q_df = pd.DataFrame({'Value': quantity_sample})\n",
    "q_df['Variable'] = 'Quantity'\n",
    "\n",
    "# Create DataFrame for UnitPrice\n",
    "u_df = pd.DataFrame({'Value': unitprice_sample})\n",
    "u_df['Variable'] = 'UnitPrice'\n",
    "\n",
    "# Combine both for one chart if needed\n",
    "combined_df = pd.concat([q_df, u_df], ignore_index=True)\n",
    "\n",
    "# Plot Quantity distribution\n",
    "fig_q = px.histogram(q_df, x='Value', nbins=30, marginal=\"box\", opacity=0.7,\n",
    "                     title=\"Shapiro-Wilk: Quantity Sample Distribution with KDE\",\n",
    "                     histnorm='density')\n",
    "fig_q.add_scatter(x=np.linspace(q_df['Value'].min(), q_df['Value'].max(), 100),\n",
    "                  y=norm.pdf(np.linspace(q_df['Value'].min(), q_df['Value'].max(), 100),\n",
    "                             q_df['Value'].mean(), q_df['Value'].std()),\n",
    "                  mode='lines', name='Normal Curve', line=dict(color='red'))\n",
    "fig_q.show()\n",
    "\n",
    "# Plot UnitPrice distribution\n",
    "fig_u = px.histogram(u_df, x='Value', nbins=30, marginal=\"box\", opacity=0.7,\n",
    "                     title=\"Shapiro-Wilk: UnitPrice Sample Distribution with KDE\",\n",
    "                     histnorm='density')\n",
    "fig_u.add_scatter(x=np.linspace(u_df['Value'].min(), u_df['Value'].max(), 100),\n",
    "                  y=norm.pdf(np.linspace(u_df['Value'].min(), u_df['Value'].max(), 100),\n",
    "                             u_df['Value'].mean(), u_df['Value'].std()),\n",
    "                  mode='lines', name='Normal Curve', line=dict(color='red'))\n",
    "fig_u.show()"
   ]
  },
  {
   "cell_type": "code",
   "execution_count": null,
   "id": "6d409adc",
   "metadata": {},
   "outputs": [],
   "source": [
    "#t-Test\n",
    "uk_prices = df_clean[df_clean['Country'] == 'United Kingdom']['UnitPrice'].sample(500, random_state=1)\n",
    "germany_prices = df_clean[df_clean['Country'] == 'Germany']['UnitPrice'].sample(500, random_state=1)\n",
    "stats.ttest_ind(uk_prices, germany_prices, equal_var=False)"
   ]
  },
  {
   "cell_type": "code",
   "execution_count": null,
   "id": "c37650f5-4552-4eee-b4a4-63a564d57b1c",
   "metadata": {},
   "outputs": [],
   "source": [
    "#t-Test Visualization\n",
    "# Sample data\n",
    "uk_prices = df_clean[df_clean['Country'] == 'United Kingdom']['UnitPrice'].sample(500, random_state=1)\n",
    "germany_prices = df_clean[df_clean['Country'] == 'Germany']['UnitPrice'].sample(500, random_state=1)\n",
    "\n",
    "# Combine into one DataFrame\n",
    "ttest_df = pd.DataFrame({\n",
    "    'UnitPrice': pd.concat([uk_prices, germany_prices], ignore_index=True),\n",
    "    'Country': ['United Kingdom'] * 500 + ['Germany'] * 500\n",
    "})\n",
    "\n",
    "# Plotly box plot with strip overlay\n",
    "fig = px.box(ttest_df, x='Country', y='UnitPrice', points=\"all\", color='Country',\n",
    "             title=\"T-Test: Comparison of UnitPrice between UK and Germany\",\n",
    "             color_discrete_map={'United Kingdom': 'skyblue', 'Germany': 'orange'})\n",
    "fig.update_traces(jitter=0.3, marker=dict(size=4, opacity=0.5))\n",
    "fig.show()"
   ]
  },
  {
   "cell_type": "code",
   "execution_count": null,
   "id": "4478dae1",
   "metadata": {},
   "outputs": [],
   "source": [
    "#ANOVA test\n",
    "anova_df = df_clean[df_clean['Country'].isin(['United Kingdom', 'Germany', 'France'])]\n",
    "stats.f_oneway(\n",
    "    anova_df[anova_df['Country'] == 'United Kingdom']['Quantity'],\n",
    "    anova_df[anova_df['Country'] == 'Germany']['Quantity'],\n",
    "    anova_df[anova_df['Country'] == 'France']['Quantity']\n",
    ")"
   ]
  },
  {
   "cell_type": "code",
   "execution_count": null,
   "id": "fbfffa79-16c9-4668-8a67-437a567b21ef",
   "metadata": {},
   "outputs": [],
   "source": [
    "#ANOVA test visualization\n",
    "\n",
    "top_countries = df_clean['Country'].value_counts().nlargest(3).index\n",
    "anova_df = df_clean[df_clean['Country'].isin(top_countries)]\n",
    "fig = px.box(anova_df, x='Country', y='Quantity', color='Country',\n",
    "             title=\"ANOVA: Quantity Distribution by Country\",\n",
    "             color_discrete_sequence=px.colors.qualitative.Set2)\n",
    "fig.show()\n"
   ]
  },
  {
   "cell_type": "code",
   "execution_count": null,
   "id": "a444e8b3-0d1b-4d8f-9075-4ec9ce4aa975",
   "metadata": {},
   "outputs": [],
   "source": [
    "summary = \"\"\"\n",
    "Final Summary and Insights\n",
    "\n",
    "This notebook presented a complete data-driven analysis using the Online Retail dataset, focusing on applying descriptive and inferential statistical techniques through Python for business decision-making.\n",
    "\n",
    "Key Steps and Insights:\n",
    "\n",
    "1. Data Preprocessing:\n",
    "- Removed missing CustomerIDs and negative/zero Quantity or UnitPrice values.\n",
    "- Handled duplicates and outliers using IQR filtering and boxplots.\n",
    "- Converted InvoiceDate to datetime and extracted InvoiceMonth.\n",
    "\n",
    "2. Descriptive Statistics:\n",
    "- Computed mean, median, std, min, and max for Quantity and UnitPrice.\n",
    "- Plotted histograms, boxplots, and heatmaps to explore data distributions and relationships.\n",
    "- Found right-skewed distributions and weak correlation between UnitPrice and Quantity.\n",
    "\n",
    "3. Inferential Statistics:\n",
    "- Shapiro-Wilk test showed non-normal distribution for both variables.\n",
    "- t-Test showed no significant price difference between UK and Germany.\n",
    "- ANOVA confirmed significant differences in Quantity sold across top countries.\n",
    "\n",
    "4. Regression Analysis:\n",
    "- Linear Regression predicted Quantity using UnitPrice, Month, and Country.\n",
    "- R² = 0.135 suggests limited predictive power.\n",
    "- UnitPrice had a negative impact on Quantity, indicating price sensitivity.\n",
    "\n",
    "Business Implications:\n",
    "- Regional pricing strategies and inventory allocation should be data-informed.\n",
    "- Model could be improved by including more features (e.g., product type, promotions).\n",
    "- Python enables reproducible, scalable data pipelines that empower evidence-based decision making.\n",
    "\n",
    "Conclusion:\n",
    "This analysis framework bridges statistical theory and practical business use. With further enhancements, it can support forecasting, segmentation, and real-time analytics in retail.\n",
    "\"\"\"\n",
    "\n",
    "print(summary)\n"
   ]
  },
  {
   "cell_type": "code",
   "execution_count": null,
   "id": "788b45ac-c20f-4e27-8ca7-96526d1e7ebd",
   "metadata": {},
   "outputs": [],
   "source": []
  }
 ],
 "metadata": {
  "kernelspec": {
   "display_name": "Python 3 (ipykernel)",
   "language": "python",
   "name": "python3"
  },
  "language_info": {
   "codemirror_mode": {
    "name": "ipython",
    "version": 3
   },
   "file_extension": ".py",
   "mimetype": "text/x-python",
   "name": "python",
   "nbconvert_exporter": "python",
   "pygments_lexer": "ipython3",
   "version": "3.12.4"
  }
 },
 "nbformat": 4,
 "nbformat_minor": 5
}
